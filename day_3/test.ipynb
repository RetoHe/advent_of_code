{
 "cells": [
  {
   "cell_type": "code",
   "execution_count": 24,
   "metadata": {},
   "outputs": [],
   "source": [
    "with open('day_3.txt', 'r') as file:\n",
    "     #file.readline() # skip the first line\n",
    "     rows = [list(line) for line in file]\n",
    "     cols = [list(col) for col in zip(*rows)]\n"
   ]
  },
  {
   "cell_type": "code",
   "execution_count": 31,
   "metadata": {},
   "outputs": [],
   "source": [
    "with open('day_3.txt', 'r') as file:\n",
    "    for line in file:\n",
    "        lenline = len(line)\n",
    "        break"
   ]
  },
  {
   "cell_type": "code",
   "execution_count": 44,
   "metadata": {},
   "outputs": [],
   "source": [
    "matrix_list = []\n",
    "for i in range(lenline-1):\n",
    "    col_string = \"\"\n",
    "    with open('day_3.txt', 'r') as file:\n",
    "        for line in file:\n",
    "            col_string += line[i]\n",
    "    matrix_list.append(col_string)\n"
   ]
  },
  {
   "cell_type": "code",
   "execution_count": 57,
   "metadata": {},
   "outputs": [],
   "source": [
    "binary_string_most = \"\"\n",
    "binary_string_second = \"\"\n",
    "for i in range(len(matrix_list)):\n",
    "    ones = matrix_list[i].count('1')\n",
    "    zeros = matrix_list[i].count('0')\n",
    "    if zeros > ones:\n",
    "        binary_string_most += \"0\"\n",
    "        binary_string_second += \"1\"\n",
    "    elif ones > zeros:\n",
    "        binary_string_most += \"1\"\n",
    "        binary_string_second += \"0\"\n"
   ]
  },
  {
   "cell_type": "code",
   "execution_count": 60,
   "metadata": {},
   "outputs": [
    {
     "data": {
      "text/plain": [
       "3959450"
      ]
     },
     "execution_count": 60,
     "metadata": {},
     "output_type": "execute_result"
    }
   ],
   "source": [
    "int(binary_string_most, 2) * int(binary_string_second, 2)"
   ]
  },
  {
   "cell_type": "code",
   "execution_count": 59,
   "metadata": {},
   "outputs": [
    {
     "data": {
      "text/plain": [
       "2530"
      ]
     },
     "execution_count": 59,
     "metadata": {},
     "output_type": "execute_result"
    }
   ],
   "source": [
    "int(binary_string_second, 2)"
   ]
  },
  {
   "cell_type": "code",
   "execution_count": null,
   "metadata": {},
   "outputs": [],
   "source": []
  }
 ],
 "metadata": {
  "interpreter": {
   "hash": "aee8b7b246df8f9039afb4144a1f6fd8d2ca17a180786b69acc140d282b71a49"
  },
  "kernelspec": {
   "display_name": "Python 3.8.0 64-bit",
   "language": "python",
   "name": "python3"
  },
  "language_info": {
   "codemirror_mode": {
    "name": "ipython",
    "version": 3
   },
   "file_extension": ".py",
   "mimetype": "text/x-python",
   "name": "python",
   "nbconvert_exporter": "python",
   "pygments_lexer": "ipython3",
   "version": "3.8.0"
  },
  "orig_nbformat": 4
 },
 "nbformat": 4,
 "nbformat_minor": 2
}
