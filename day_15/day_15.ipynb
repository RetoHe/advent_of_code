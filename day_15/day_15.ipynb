{
 "cells": [
  {
   "cell_type": "code",
   "execution_count": 3,
   "metadata": {},
   "outputs": [
    {
     "name": "stdout",
     "output_type": "stream",
     "text": [
      "720\n",
      "3025\n"
     ]
    }
   ],
   "source": [
    "# https://adventofcode.com/2021/day/15\n",
    "\n",
    "\n",
    "from queue import PriorityQueue\n",
    "\n",
    "\n",
    "SAMPLE_PATH = \"day_15.txt\"\n",
    "INPUT_PATH = \"day_15.txt\"\n",
    "\n",
    "\n",
    "def get_data(filename):\n",
    "    with open(filename) as file:\n",
    "        lines = file.read().splitlines()\n",
    "    return [[int(x) for x in line] for line in lines]\n",
    "\n",
    "\n",
    "def manhattan_distance(a, b):\n",
    "    return abs(a[0] - b[0]) + abs(a[1] - b[1])\n",
    "\n",
    "\n",
    "def find_lowest_risk(cave_map):\n",
    "    \"\"\"Pathfinding using A*\"\"\"\n",
    "    start = (0, 0)\n",
    "    destination = (len(cave_map[0]) - 1, len(cave_map) - 1)\n",
    "    frontier = PriorityQueue()\n",
    "    frontier.put((0, start))\n",
    "    came_from = {start: None}\n",
    "    risk_so_far = {start: 0}\n",
    "    offsets = ((1, 0), (0, 1), (-1, 0), (0, -1))\n",
    "    pos = None\n",
    "    while not frontier.empty():\n",
    "        pos = frontier.get()[1]\n",
    "        if pos == destination:\n",
    "            break\n",
    "        for offset in offsets:\n",
    "            new_pos = (pos[0] + offset[0], pos[1] + offset[1])\n",
    "            if 0 <= new_pos[0] < len(cave_map[0]) and 0 <= new_pos[1] < len(cave_map):\n",
    "                new_risk = risk_so_far[pos] + cave_map[new_pos[1]][new_pos[0]]\n",
    "                if new_pos not in came_from or new_risk < risk_so_far[new_pos]:\n",
    "                    risk_so_far[new_pos] = new_risk\n",
    "                    priority = new_risk + manhattan_distance(new_pos, destination)\n",
    "                    frontier.put((priority, new_pos))\n",
    "                    came_from[new_pos] = pos\n",
    "    return risk_so_far[pos]\n",
    "\n",
    "\n",
    "def part_1(cave_map):\n",
    "    return find_lowest_risk(cave_map)\n",
    "\n",
    "\n",
    "def part_2(cave_map):\n",
    "    original_width = len(cave_map[0])\n",
    "    original_hight = len(cave_map)\n",
    "    for i in range(4):\n",
    "        for line in cave_map:\n",
    "            right_part = [x % 9 + 1 for x in line[-original_width:]]\n",
    "            line.extend(right_part)\n",
    "        for line in cave_map[original_hight*i:original_hight*(i+1)]:\n",
    "            new_line = [x % 9 + 1 for x in line]\n",
    "            cave_map.append(new_line)\n",
    "\n",
    "    return find_lowest_risk(cave_map)\n",
    "\n",
    "\n",
    "if __name__ == \"__main__\":\n",
    "    #sample_data = get_data(SAMPLE_PATH)\n",
    "    #assert part_1(sample_data) == 40\n",
    "    #assert part_2(sample_data) == 315\n",
    "\n",
    "    challenge_data = get_data(INPUT_PATH)\n",
    "    print(part_1(challenge_data))  # 717\n",
    "    print(part_2(challenge_data))"
   ]
  },
  {
   "cell_type": "code",
   "execution_count": null,
   "metadata": {},
   "outputs": [],
   "source": []
  }
 ],
 "metadata": {
  "interpreter": {
   "hash": "aee8b7b246df8f9039afb4144a1f6fd8d2ca17a180786b69acc140d282b71a49"
  },
  "kernelspec": {
   "display_name": "Python 3.8.0 64-bit",
   "language": "python",
   "name": "python3"
  },
  "language_info": {
   "codemirror_mode": {
    "name": "ipython",
    "version": 3
   },
   "file_extension": ".py",
   "mimetype": "text/x-python",
   "name": "python",
   "nbconvert_exporter": "python",
   "pygments_lexer": "ipython3",
   "version": "3.8.0"
  },
  "orig_nbformat": 4
 },
 "nbformat": 4,
 "nbformat_minor": 2
}
