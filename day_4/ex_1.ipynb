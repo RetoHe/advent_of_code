{
 "cells": [
  {
   "cell_type": "code",
   "execution_count": 16,
   "metadata": {},
   "outputs": [
    {
     "name": "stdout",
     "output_type": "stream",
     "text": [
      "2568\n"
     ]
    }
   ],
   "source": [
    "with open('day_4.txt', 'r') as f:\n",
    "    num_data, *board_data = f.read().split('\\n\\n')\n",
    "\n",
    "def create_boards(num_data, board_data):\n",
    "    nums = map(int, num_data.split(','))\n",
    "    boards = []\n",
    "    for board in board_data:\n",
    "        rows = [[int(i) for i in row.split()] for row in board.split('\\n')]\n",
    "        boards.append([set(row) for row in rows])\n",
    "        boards.append([set(col) for col in zip(*rows)])\n",
    "    return nums, boards\n",
    "\n",
    "def get_winning_score(num, board):\n",
    "    return (sum(sum(group) for group in board) - num) * num\n",
    "\n",
    "def AOC_day4_pt1():\n",
    "    nums, boards = create_boards(num_data, board_data)\n",
    "    for num in nums:\n",
    "        for idx, board in enumerate(boards):\n",
    "            if {num} in board:\n",
    "                return get_winning_score(num, board)\n",
    "            else:\n",
    "                boards[idx] = [group.difference({num}) for group in board]\n",
    "\n",
    "def AOC_day4_pt2():\n",
    "    nums, boards = create_boards(num_data, board_data)\n",
    "    for num in nums:\n",
    "        for idx, board in enumerate(boards):\n",
    "            if board is not None:\n",
    "                if {num} in board:\n",
    "                    winner = get_winning_score(num, board)\n",
    "                    boards[idx] = None\n",
    "                    if idx%2:\n",
    "                        boards[idx-1] = None\n",
    "                    else:\n",
    "                        boards[idx+1] = None\n",
    "                else:\n",
    "                    boards[idx] = [group.difference({num}) for group in board]\n",
    "    return winner\n",
    "\n",
    "#print(AOC_day4_pt1())\n",
    "print(AOC_day4_pt2())"
   ]
  }
 ],
 "metadata": {
  "interpreter": {
   "hash": "aee8b7b246df8f9039afb4144a1f6fd8d2ca17a180786b69acc140d282b71a49"
  },
  "kernelspec": {
   "display_name": "Python 3.8.0 64-bit",
   "language": "python",
   "name": "python3"
  },
  "language_info": {
   "codemirror_mode": {
    "name": "ipython",
    "version": 3
   },
   "file_extension": ".py",
   "mimetype": "text/x-python",
   "name": "python",
   "nbconvert_exporter": "python",
   "pygments_lexer": "ipython3",
   "version": "3.8.0"
  },
  "orig_nbformat": 4
 },
 "nbformat": 4,
 "nbformat_minor": 2
}
