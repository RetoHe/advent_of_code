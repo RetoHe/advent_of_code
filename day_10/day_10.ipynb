{
 "cells": [
  {
   "cell_type": "code",
   "execution_count": 3,
   "metadata": {},
   "outputs": [
    {
     "name": "stdout",
     "output_type": "stream",
     "text": [
      "462693\n"
     ]
    }
   ],
   "source": [
    "nav_sub = open(\"day_10.txt\",\"r\").read().splitlines()\n",
    "\n",
    "symbol_dict = {\"]\":\"[\", \")\":\"(\", \">\":\"<\", \"}\":\"{\"}\n",
    "symbol_values = {\"]\":57, \")\":3, \">\":25137, \"}\":1197}\n",
    "symbol_list = []\n",
    "error_score = 0\n",
    "\n",
    "for i in nav_sub:\n",
    "    for u in i:\n",
    "        if u in symbol_dict.values():\n",
    "            symbol_list.append(u)\n",
    "        elif u in symbol_dict.keys():\n",
    "            if symbol_list[-1] == symbol_dict.get(u):\n",
    "                symbol_list = symbol_list[:-1]\n",
    "            else:\n",
    "                error_score += int(symbol_values.get(u))\n",
    "                break\n",
    "    \n",
    "    symbol_list = []\n",
    "    \n",
    "print(error_score)"
   ]
  },
  {
   "cell_type": "code",
   "execution_count": 4,
   "metadata": {},
   "outputs": [
    {
     "name": "stdout",
     "output_type": "stream",
     "text": [
      "3094671161\n"
     ]
    }
   ],
   "source": [
    "nav_sub = open(\"day_10.txt\",\"r\").read().splitlines()\n",
    "\n",
    "symbol_dict = {\"]\":\"[\", \")\":\"(\", \">\":\"<\", \"}\":\"{\"}\n",
    "symbol_values = {\"]\":2, \")\":1, \">\":4, \"}\":3}\n",
    "symbol_list = []\n",
    "score_list = []\n",
    "temp_score = 0\n",
    "incomplete_nav_sub = []\n",
    "\n",
    "for i in nav_sub:\n",
    "    for u in i:\n",
    "        if u in symbol_dict.values():\n",
    "            symbol_list.append(u)\n",
    "        elif u in symbol_dict.keys():\n",
    "            if symbol_list[-1] == symbol_dict.get(u):\n",
    "                symbol_list = symbol_list[:-1]\n",
    "            else:\n",
    "                break\n",
    "    else:\n",
    "        incomplete_nav_sub.append(i)\n",
    "        continue\n",
    "    \n",
    "    symbol_list = []\n",
    "    \n",
    "for i in incomplete_nav_sub:\n",
    "    symbol_dict = {\"]\":\"[\", \")\":\"(\", \">\":\"<\", \"}\":\"{\"}\n",
    "    for u in i:\n",
    "        if u in symbol_dict.values():\n",
    "            symbol_list.append(u)\n",
    "        elif u in symbol_dict.keys():\n",
    "            if symbol_list[-1] == symbol_dict.get(u): \n",
    "                symbol_list = symbol_list[:-1]\n",
    "    \n",
    "    symbol_dict = {\"[\":\"]\", \"(\":\")\", \"<\":\">\", \"{\":\"}\"}\n",
    "    while len(symbol_list) > 0:\n",
    "        x = symbol_dict.get(symbol_list[-1])\n",
    "        temp_score = temp_score * 5 + symbol_values.get(x)\n",
    "        symbol_list = symbol_list[:-1]\n",
    "        \n",
    "    score_list.append(temp_score)\n",
    "    temp_score = 0\n",
    "    symbol_list = []\n",
    "\n",
    "score_list.sort()\n",
    "middle = (len(score_list) - 1)/2\n",
    "print(score_list[int(middle)])"
   ]
  },
  {
   "cell_type": "code",
   "execution_count": null,
   "metadata": {},
   "outputs": [],
   "source": []
  }
 ],
 "metadata": {
  "interpreter": {
   "hash": "aee8b7b246df8f9039afb4144a1f6fd8d2ca17a180786b69acc140d282b71a49"
  },
  "kernelspec": {
   "display_name": "Python 3.8.0 64-bit",
   "language": "python",
   "name": "python3"
  },
  "language_info": {
   "codemirror_mode": {
    "name": "ipython",
    "version": 3
   },
   "file_extension": ".py",
   "mimetype": "text/x-python",
   "name": "python",
   "nbconvert_exporter": "python",
   "pygments_lexer": "ipython3",
   "version": "3.8.0"
  },
  "orig_nbformat": 4
 },
 "nbformat": 4,
 "nbformat_minor": 2
}
