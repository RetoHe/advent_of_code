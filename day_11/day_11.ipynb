{
 "cells": [
  {
   "cell_type": "code",
   "execution_count": 3,
   "metadata": {},
   "outputs": [
    {
     "name": "stdout",
     "output_type": "stream",
     "text": [
      "Part 1: 1702\n",
      "Part 2: 251\n"
     ]
    }
   ],
   "source": [
    "import numpy as np\n",
    "from scipy.signal import convolve2d\n",
    "\n",
    "test_data = \"\"\"5483143223\n",
    "2745854711\n",
    "5264556173\n",
    "6141336146\n",
    "6357385478\n",
    "4167524645\n",
    "2176841721\n",
    "6882881134\n",
    "4846848554\n",
    "5283751526\"\"\"\n",
    "\n",
    "with open('day_11.txt') as f:\n",
    "    data = f.read()\n",
    "\n",
    "\n",
    "def flash(arr):\n",
    "    arr += 1\n",
    "    mask = np.array([[1, 1, 1], [1, 0, 1], [1, 1, 1]])\n",
    "    flashed = np.zeros(arr.shape, dtype=bool)\n",
    "    while np.any(flashing := arr > 9):\n",
    "        flashed |= flashing\n",
    "        arr += convolve2d(flashing, mask, mode='same')\n",
    "        arr[flashed] = 0\n",
    "    return flashed\n",
    "\n",
    "def part1(data, steps=100):\n",
    "    arr = np.array([[*line] for line in data.splitlines()], dtype=int)\n",
    "    return sum(flash(arr).sum() for _ in range(steps))\n",
    "\n",
    "def part2(data):\n",
    "    arr = np.array([[*line] for line in data.splitlines()], dtype=int)\n",
    "    \n",
    "    step = 0\n",
    "    while np.any(arr):\n",
    "        flash(arr)\n",
    "        step += 1\n",
    "    return step\n",
    "\n",
    "\n",
    "assert part1(test_data) == 1656\n",
    "print('Part 1:', part1(data))\n",
    "\n",
    "assert part2(test_data) == 195\n",
    "print('Part 2:', part2(data))"
   ]
  },
  {
   "cell_type": "code",
   "execution_count": null,
   "metadata": {},
   "outputs": [],
   "source": []
  }
 ],
 "metadata": {
  "interpreter": {
   "hash": "aee8b7b246df8f9039afb4144a1f6fd8d2ca17a180786b69acc140d282b71a49"
  },
  "kernelspec": {
   "display_name": "Python 3.8.0 64-bit",
   "language": "python",
   "name": "python3"
  },
  "language_info": {
   "codemirror_mode": {
    "name": "ipython",
    "version": 3
   },
   "file_extension": ".py",
   "mimetype": "text/x-python",
   "name": "python",
   "nbconvert_exporter": "python",
   "pygments_lexer": "ipython3",
   "version": "3.8.0"
  },
  "orig_nbformat": 4
 },
 "nbformat": 4,
 "nbformat_minor": 2
}
