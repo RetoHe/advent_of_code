{
 "cells": [
  {
   "cell_type": "code",
   "execution_count": 2,
   "metadata": {},
   "outputs": [
    {
     "name": "stdout",
     "output_type": "stream",
     "text": [
      "\n",
      " ----PART 1----- \n",
      "\n",
      "5442\n",
      "\n",
      " ----PART 2----- \n",
      "\n",
      "19571\n"
     ]
    }
   ],
   "source": [
    "from collections import Counter\n",
    "\n",
    "with open('day5.txt') as f:\n",
    "    coordinates_data = f.read().split('\\n')\n",
    "\n",
    "\n",
    "def get_values_between(v1, v2, multiplier):\n",
    "\n",
    "    if v1 > v2:\n",
    "        return [*range(v1, v2-1, -1)]\n",
    "    elif v1 < v2:\n",
    "        return [*range(v1, v2+1)]\n",
    "    else:\n",
    "        return [v1] * multiplier\n",
    "\n",
    "\n",
    "def get_intersections_count(coordinates_data, include_diagonal):\n",
    "    lines = []\n",
    "    for coordinates_set in coordinates_data:\n",
    "        (x1, y1), (x2, y2) = [tuple(int(i) for i in x_y.split(','))\n",
    "                              for x_y in coordinates_set.split('->')]\n",
    "\n",
    "        x_dist = abs(x1-x2)\n",
    "        y_dist = abs(y1-y2)\n",
    "\n",
    "        is_diagonal = x_dist != 0 and y_dist != 0\n",
    "\n",
    "        if is_diagonal and not include_diagonal:\n",
    "            continue\n",
    "\n",
    "        multiplier = max(x_dist, y_dist) + 1\n",
    "        x_values = get_values_between(x1, x2, multiplier)\n",
    "        y_values = get_values_between(y1, y2, multiplier)\n",
    "\n",
    "        for idx, x in enumerate(x_values):\n",
    "            lines.append(((x, y_values[idx])))\n",
    "\n",
    "    count = Counter(lines)\n",
    "    return len([i for i in count.values() if i > 1])\n",
    "\n",
    "\n",
    "def part1():\n",
    "    return get_intersections_count(coordinates_data, False)\n",
    "\n",
    "\n",
    "def part2():\n",
    "    return get_intersections_count(coordinates_data, True)\n",
    "\n",
    "\n",
    "print('\\n', '----PART 1-----', '\\n')\n",
    "print(part1())\n",
    "print('\\n', '----PART 2-----', '\\n')\n",
    "print(part2())"
   ]
  },
  {
   "cell_type": "code",
   "execution_count": null,
   "metadata": {},
   "outputs": [],
   "source": []
  }
 ],
 "metadata": {
  "interpreter": {
   "hash": "aee8b7b246df8f9039afb4144a1f6fd8d2ca17a180786b69acc140d282b71a49"
  },
  "kernelspec": {
   "display_name": "Python 3.8.0 64-bit",
   "language": "python",
   "name": "python3"
  },
  "language_info": {
   "codemirror_mode": {
    "name": "ipython",
    "version": 3
   },
   "file_extension": ".py",
   "mimetype": "text/x-python",
   "name": "python",
   "nbconvert_exporter": "python",
   "pygments_lexer": "ipython3",
   "version": "3.8.0"
  },
  "orig_nbformat": 4
 },
 "nbformat": 4,
 "nbformat_minor": 2
}
