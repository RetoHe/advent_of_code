{
 "cells": [
  {
   "cell_type": "code",
   "execution_count": 3,
   "metadata": {},
   "outputs": [],
   "source": [
    "from collections import defaultdict\n",
    "\n",
    "\n",
    "def solveDay(myFile):\n",
    "    data = parseData(myFile)\n",
    "    print('Part 1: ', part1(data))\n",
    "    print('Part 2: ', part2(data))\n",
    "\n",
    "\n",
    "def parseData(myFile):\n",
    "    connect = defaultdict(list)\n",
    "    with open(myFile) as f:\n",
    "        for line in f.readlines():\n",
    "            pair = line.strip().split('-')\n",
    "            for p1, p2 in zip(pair, reversed(pair)):\n",
    "                if p2 != 'start':\n",
    "                    connect[p1].append(p2)\n",
    "        del connect['end']\n",
    "        return connect\n",
    "\n",
    "\n",
    "def part1(data, path=['start']):\n",
    "    final = 0\n",
    "    for point in data[path[-1]]:\n",
    "        if point.isupper() or not point in path:\n",
    "            final += 1 if point == 'end' else part1(data, path + [point])\n",
    "    return final\n",
    "\n",
    "\n",
    "def part2(data, path=['start']):\n",
    "    final = 0\n",
    "    for point in data[path[-1]]:\n",
    "        final += 1 if point == 'end' else (part2,\n",
    "                                           part1)[point.islower()\n",
    "                                                  and point in path](\n",
    "                                                      data, path + [point])\n",
    "    return final"
   ]
  },
  {
   "cell_type": "code",
   "execution_count": 5,
   "metadata": {},
   "outputs": [
    {
     "name": "stdout",
     "output_type": "stream",
     "text": [
      "Part 1:  5756\n",
      "Part 2:  144603\n"
     ]
    }
   ],
   "source": [
    "solveDay(\"day_12.txt\")"
   ]
  },
  {
   "cell_type": "code",
   "execution_count": null,
   "metadata": {},
   "outputs": [],
   "source": []
  }
 ],
 "metadata": {
  "interpreter": {
   "hash": "aee8b7b246df8f9039afb4144a1f6fd8d2ca17a180786b69acc140d282b71a49"
  },
  "kernelspec": {
   "display_name": "Python 3.8.0 64-bit",
   "language": "python",
   "name": "python3"
  },
  "language_info": {
   "codemirror_mode": {
    "name": "ipython",
    "version": 3
   },
   "file_extension": ".py",
   "mimetype": "text/x-python",
   "name": "python",
   "nbconvert_exporter": "python",
   "pygments_lexer": "ipython3",
   "version": "3.8.0"
  },
  "orig_nbformat": 4
 },
 "nbformat": 4,
 "nbformat_minor": 2
}
